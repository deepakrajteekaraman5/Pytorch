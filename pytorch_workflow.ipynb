{
 "cells": [
  {
   "cell_type": "markdown",
   "metadata": {},
   "source": [
    "## Pytorch workflow\n",
    "\n",
    "Pytorch end to end workflow\n",
    "\n",
    "1. data (prepare and load)\n",
    "2. build model\n",
    "3. fitting the model to data (training)\n",
    "4. making predictions and evaluating the model (inference)\n",
    "5. saving and loading a model\n",
    "6. putting it all together"
   ]
  },
  {
   "cell_type": "code",
   "execution_count": 21,
   "metadata": {},
   "outputs": [],
   "source": [
    "import torch\n",
    "from torch import nn #nn contains all of pytorch's budilding block for neural networks\n",
    "import matplotlib.pyplot as plt\n",
    "import numpy as np\n",
    "import pandas as pd\n",
    "%matplotlib inline"
   ]
  },
  {
   "cell_type": "markdown",
   "metadata": {},
   "source": [
    "## 1. Data preparing and loading\n",
    "data can be alsmost anything in machine learning\n",
    "\n",
    "1. excel sheet\n",
    "2. images of anykind\n",
    "3. Videos(youtube)\n",
    "4. Audio like songs or podcast\n",
    "5. DNA\n",
    "6. Text etc...\n",
    "\n",
    "Machine learning is a game of two parts:\n",
    "1. Get data into a numerical represntation\n",
    "2. Build model to learn patterns in that numerical represnetation\n",
    "\n",
    "Let's create some know data using linear regression formula\n",
    "\n",
    "Make a straight line with known parameters\n"
   ]
  },
  {
   "cell_type": "code",
   "execution_count": 4,
   "metadata": {},
   "outputs": [
    {
     "data": {
      "text/plain": [
       "(tensor([[0.0000],\n",
       "         [0.0200],\n",
       "         [0.0400],\n",
       "         [0.0600],\n",
       "         [0.0800],\n",
       "         [0.1000],\n",
       "         [0.1200],\n",
       "         [0.1400],\n",
       "         [0.1600],\n",
       "         [0.1800]]),\n",
       " tensor([[0.3000],\n",
       "         [0.3140],\n",
       "         [0.3280],\n",
       "         [0.3420],\n",
       "         [0.3560],\n",
       "         [0.3700],\n",
       "         [0.3840],\n",
       "         [0.3980],\n",
       "         [0.4120],\n",
       "         [0.4260]]),\n",
       " 50,\n",
       " 50)"
      ]
     },
     "execution_count": 4,
     "metadata": {},
     "output_type": "execute_result"
    }
   ],
   "source": [
    "# creating known parameters\n",
    "weight = 0.7\n",
    "bias = 0.3\n",
    "\n",
    "#create\n",
    "\n",
    "start = 0\n",
    "end = 1\n",
    "step = 0.02\n",
    "X = torch.arange(start, end, step).unsqueeze(dim = 1) #unsqueeze adds extra dimension\n",
    "y = weight * X + bias\n",
    "\n",
    "X[:10], y[:10], len(X), len(y)"
   ]
  },
  {
   "cell_type": "markdown",
   "metadata": {},
   "source": [
    "## Splitting data into training and test sets (one of the most important concepts in machine learning)\n",
    "1. Trainig set (course materials)\n",
    "2. Validation set (practice exam) \n",
    "3. Test set (Final exam)\n",
    "\n",
    "the goal is Generalization (ability of model to perform well on the unseen data)"
   ]
  },
  {
   "cell_type": "code",
   "execution_count": 10,
   "metadata": {},
   "outputs": [
    {
     "data": {
      "text/plain": [
       "(40, 10, 40, 10)"
      ]
     },
     "execution_count": 10,
     "metadata": {},
     "output_type": "execute_result"
    }
   ],
   "source": [
    "## Splitting data into training and test sets (one of the most important concepts in machine learning)\n",
    "train_split = int(0.8 * len(X))\n",
    "X_train, y_train =  X[:train_split], y[:train_split]\n",
    "X_test, y_test = X[train_split:] , y[train_split:]\n",
    "\n",
    "len(X_train), len(X_test), len(y_train), len(y_test)"
   ]
  },
  {
   "cell_type": "markdown",
   "metadata": {},
   "source": [
    "How might we better visualize our data?\n",
    "visualize"
   ]
  },
  {
   "cell_type": "code",
   "execution_count": 27,
   "metadata": {},
   "outputs": [],
   "source": [
    "def plot_predicitons(train_data = X_train,\n",
    "                     train_lables = y_train,\n",
    "                     test_data = X_test,\n",
    "                     test_lables = y_test,\n",
    "                     predictions = None) :\n",
    "\n",
    " plt.figure (figsize=(10,7))\n",
    "\n",
    " #plot training data in blue\n",
    " plt.scatter(train_data,train_lables, c='b', s=4, label = \"Training data\")\n",
    "\n",
    " #plot test data\n",
    " plt.scatter(test_data, test_lables, c='r', s=4, label= \"Test data\")\n",
    "\n",
    " if predictions is not None:\n",
    "     plt.scatter(test_data, predictions, c='y', s=4, label=\"Predictions\")\n",
    "\n",
    " #Show the legend\n",
    " plt.legend(prop={\"size\": 14});\n",
    " "
   ]
  },
  {
   "cell_type": "code",
   "execution_count": 28,
   "metadata": {},
   "outputs": [
    {
     "data": {
      "image/png": "[encoded data removed]",
      "text/plain": [
       "<Figure size 1000x700 with 1 Axes>"
      ]
     },
     "metadata": {},
     "output_type": "display_data"
    }
   ],
   "source": [
    "plot_predicitons();"
   ]
  },
  {
   "cell_type": "code",
   "execution_count": null,
   "metadata": {},
   "outputs": [],
   "source": []
  }
 ],
 "metadata": {
  "kernelspec": {
   "display_name": "Python 3",
   "language": "python",
   "name": "python3"
  },
  "language_info": {
   "codemirror_mode": {
    "name": "ipython",
    "version": 3
   },
   "file_extension": ".py",
   "mimetype": "text/x-python",
   "name": "python",
   "nbconvert_exporter": "python",
   "pygments_lexer": "ipython3",
   "version": "3.10.11"
  }
 },
 "nbformat": 4,
 "nbformat_minor": 2
}
