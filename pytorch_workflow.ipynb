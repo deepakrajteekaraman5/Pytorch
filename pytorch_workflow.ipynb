{
 "cells": [
  {
   "cell_type": "markdown",
   "metadata": {},
   "source": [
    "## Pytorch workflow\n",
    "\n",
    "Pytorch end to end workflow\n",
    "\n",
    "1. data (prepare and load)\n",
    "2. build model\n",
    "3. fitting the model to data (training)\n",
    "4. making predictions and evaluating the model (inference)\n",
    "5. saving and loading a model\n",
    "6. putting it all together"
   ]
  },
  {
   "cell_type": "code",
   "execution_count": 21,
   "metadata": {},
   "outputs": [],
   "source": [
    "import torch\n",
    "from torch import nn #nn contains all of pytorch's budilding block for neural networks\n",
    "import matplotlib.pyplot as plt\n",
    "import numpy as np\n",
    "import pandas as pd\n",
    "%matplotlib inline"
   ]
  },
  {
   "cell_type": "markdown",
   "metadata": {},
   "source": [
    "## 1. Data preparing and loading\n",
    "data can be alsmost anything in machine learning\n",
    "\n",
    "1. excel sheet\n",
    "2. images of anykind\n",
    "3. Videos(youtube)\n",
    "4. Audio like songs or podcast\n",
    "5. DNA\n",
    "6. Text etc...\n",
    "\n",
    "Machine learning is a game of two parts:\n",
    "1. Get data into a numerical represntation\n",
    "2. Build model to learn patterns in that numerical represnetation\n",
    "\n",
    "Let's create some know data using linear regression formula\n",
    "\n",
    "Make a straight line with known parameters\n"
   ]
  },
  {
   "cell_type": "code",
   "execution_count": 39,
   "metadata": {},
   "outputs": [
    {
     "data": {
      "text/plain": [
       "(tensor([[0.0000],\n",
       "         [0.0200],\n",
       "         [0.0400],\n",
       "         [0.0600],\n",
       "         [0.0800],\n",
       "         [0.1000],\n",
       "         [0.1200],\n",
       "         [0.1400],\n",
       "         [0.1600],\n",
       "         [0.1800]]),\n",
       " tensor([[0.3000],\n",
       "         [0.3140],\n",
       "         [0.3280],\n",
       "         [0.3420],\n",
       "         [0.3560],\n",
       "         [0.3700],\n",
       "         [0.3840],\n",
       "         [0.3980],\n",
       "         [0.4120],\n",
       "         [0.4260]]),\n",
       " 50,\n",
       " 50)"
      ]
     },
     "execution_count": 39,
     "metadata": {},
     "output_type": "execute_result"
    }
   ],
   "source": [
    "# creating known parameters\n",
    "weights = 0.7\n",
    "bias = 0.3\n",
    "\n",
    "#create\n",
    "\n",
    "start = 0\n",
    "end = 1\n",
    "step = 0.02\n",
    "X = torch.arange(start, end, step).unsqueeze(dim = 1) #unsqueeze adds extra dimension\n",
    "y = weights * X + bias\n",
    "\n",
    "X[:10], y[:10], len(X), len(y)"
   ]
  },
  {
   "cell_type": "markdown",
   "metadata": {},
   "source": [
    "## Splitting data into training and test sets (one of the most important concepts in machine learning)\n",
    "1. Trainig set (course materials)\n",
    "2. Validation set (practice exam) \n",
    "3. Test set (Final exam)\n",
    "\n",
    "the goal is Generalization (ability of model to perform well on the unseen data)"
   ]
  },
  {
   "cell_type": "code",
   "execution_count": 40,
   "metadata": {},
   "outputs": [
    {
     "data": {
      "text/plain": [
       "(40, 10, 40, 10)"
      ]
     },
     "execution_count": 40,
     "metadata": {},
     "output_type": "execute_result"
    }
   ],
   "source": [
    "## Splitting data into training and test sets (one of the most important concepts in machine learning)\n",
    "train_split = int(0.8 * len(X))\n",
    "X_train, y_train =  X[:train_split], y[:train_split]\n",
    "X_test, y_test = X[train_split:] , y[train_split:]\n",
    "\n",
    "len(X_train), len(X_test), len(y_train), len(y_test)"
   ]
  },
  {
   "cell_type": "markdown",
   "metadata": {},
   "source": [
    "How might we better visualize our data?\n",
    "visualize"
   ]
  },
  {
   "cell_type": "code",
   "execution_count": 41,
   "metadata": {},
   "outputs": [],
   "source": [
    "def plot_predicitons(train_data = X_train,\n",
    "                     train_lables = y_train,\n",
    "                     test_data = X_test,\n",
    "                     test_lables = y_test,\n",
    "                     predictions = None) :\n",
    "\n",
    " plt.figure (figsize=(10,7))\n",
    "\n",
    " #plot training data in blue\n",
    " plt.scatter(train_data,train_lables, c='b', s=4, label = \"Training data\")\n",
    "\n",
    " #plot test data\n",
    " plt.scatter(test_data, test_lables, c='r', s=4, label= \"Test data\")\n",
    "\n",
    " if predictions is not None:\n",
    "     plt.scatter(test_data, predictions, c='y', s=4, label=\"Predictions\")\n",
    "\n",
    " #Show the legend\n",
    " plt.legend(prop={\"size\": 14});\n",
    " "
   ]
  },
  {
   "cell_type": "code",
   "execution_count": 42,
   "metadata": {},
   "outputs": [
    {
     "data": {
      "image/png": "[encoded data removed]",
      "text/plain": [
       "<Figure size 1000x700 with 1 Axes>"
      ]
     },
     "metadata": {},
     "output_type": "display_data"
    }
   ],
   "source": [
    "plot_predicitons();"
   ]
  },
  {
   "cell_type": "markdown",
   "metadata": {},
   "source": [
    "## Building a model\n",
    "\n",
    "1. Model working:\n",
    "\n",
    "* Start with random weights and bias and look at training data and adjust the random values to better represent ot closer to the ideal values (the actual data we feed)\n",
    "\n",
    "Through 2 algorithms\n",
    "\n",
    "* Gradient descent\n",
    "* Backpropogation"
   ]
  },
  {
   "cell_type": "code",
   "execution_count": 43,
   "metadata": {},
   "outputs": [],
   "source": [
    "#Create a linear regression model class\n",
    "class LinearRegressionModel(nn.Module): # almost everything in pytorch inherits from nn.module\n",
    "    def __init__(self):\n",
    "        super().__init__()\n",
    "        \n",
    "        self.weights = nn.Parameter(torch.randn(1, \n",
    "                                                requires_grad = True, \n",
    "                                                dtype=torch.float))\n",
    "        \n",
    "        self.bias = nn.Parameter(torch.randn(1,\n",
    "                                             requires_grad=True,\n",
    "                                             dtype=float))\n",
    "    \n",
    "    #Forward method to define the computation in the model\n",
    "    \n",
    "    def forward(self, x: torch.Tensor): # x is the input data\n",
    "        return self.weights * x + self.bias #Linear regression formula\n"
   ]
  },
  {
   "cell_type": "markdown",
   "metadata": {},
   "source": [
    "## Pytorch model buidling essentials\n",
    "\n",
    "* torch.nn contains all of the buildings of computational graph \n",
    "* torch.nn.Parameter - What parameters should our model try and learn , often a Pytorch layer from torch.nn will set these for us\n",
    "* torch.nn.Module - The base class for all neural network modules, if you subclass it you should overwrite forward\n",
    "* torch.optim - this is where the optimizers in pytorch is located, they will help with gradient descentant\n",
    "* def forward() all nn.module subclasses requires to overwrite forward, this method represnts what happens in the forward computation"
   ]
  },
  {
   "cell_type": "markdown",
   "metadata": {},
   "source": [
    "## Checking the contents of our pytorch model\n",
    "\n",
    "we can check our model parameters or what's inside our model using `.parameters()`"
   ]
  },
  {
   "cell_type": "code",
   "execution_count": 37,
   "metadata": {},
   "outputs": [
    {
     "data": {
      "text/plain": [
       "[Parameter containing:\n",
       " tensor([0.3367], requires_grad=True),\n",
       " Parameter containing:\n",
       " tensor([0.1288], dtype=torch.float64, requires_grad=True)]"
      ]
     },
     "execution_count": 37,
     "metadata": {},
     "output_type": "execute_result"
    }
   ],
   "source": [
    "# creating random seed\n",
    "torch.manual_seed(42)\n",
    "\n",
    "#create an instance of the model (this is subclass of nn.model)\n",
    "model_0 = LinearRegressionModel()\n",
    "\n",
    "# checkout the parameters\n",
    "list(model_0.parameters())"
   ]
  },
  {
   "cell_type": "code",
   "execution_count": 38,
   "metadata": {},
   "outputs": [
    {
     "data": {
      "text/plain": [
       "OrderedDict([('weights', tensor([0.3367])),\n",
       "             ('bias', tensor([0.1288], dtype=torch.float64))])"
      ]
     },
     "execution_count": 38,
     "metadata": {},
     "output_type": "execute_result"
    }
   ],
   "source": [
    "# List named parameters\n",
    "model_0.state_dict()"
   ]
  },
  {
   "cell_type": "markdown",
   "metadata": {},
   "source": [
    "## Making predctions using `torch.inference_mode()`\n",
    "\n",
    "* To check our model's predictive power, let's see how well it predicts `y_test` based on `X_test`\n",
    "\n",
    "when we pass data through our model, it's going to run it through forward() method"
   ]
  },
  {
   "cell_type": "code",
   "execution_count": 46,
   "metadata": {},
   "outputs": [
    {
     "data": {
      "text/plain": [
       "tensor([[0.3982],\n",
       "        [0.4049],\n",
       "        [0.4116],\n",
       "        [0.4184],\n",
       "        [0.4251],\n",
       "        [0.4318],\n",
       "        [0.4386],\n",
       "        [0.4453],\n",
       "        [0.4520],\n",
       "        [0.4588]], dtype=torch.float64)"
      ]
     },
     "execution_count": 46,
     "metadata": {},
     "output_type": "execute_result"
    }
   ],
   "source": [
    "# Make predictions with model\n",
    "with torch.inference_mode():\n",
    "    y_preds = model_0(X_test)\n",
    "\n",
    "y_preds"
   ]
  },
  {
   "cell_type": "code",
   "execution_count": 47,
   "metadata": {},
   "outputs": [
    {
     "data": {
      "text/plain": [
       "tensor([[0.8600],\n",
       "        [0.8740],\n",
       "        [0.8880],\n",
       "        [0.9020],\n",
       "        [0.9160],\n",
       "        [0.9300],\n",
       "        [0.9440],\n",
       "        [0.9580],\n",
       "        [0.9720],\n",
       "        [0.9860]])"
      ]
     },
     "execution_count": 47,
     "metadata": {},
     "output_type": "execute_result"
    }
   ],
   "source": [
    "y_test"
   ]
  },
  {
   "cell_type": "code",
   "execution_count": 48,
   "metadata": {},
   "outputs": [
    {
     "data": {
      "image/png": "[encoded data removed]",
      "text/plain": [
       "<Figure size 1000x700 with 1 Axes>"
      ]
     },
     "metadata": {},
     "output_type": "display_data"
    }
   ],
   "source": [
    "plot_predicitons(predictions=y_preds)"
   ]
  },
  {
   "cell_type": "markdown",
   "metadata": {},
   "source": [
    "## 3. Train model\n",
    "\n",
    "The whole idea of training for the model to move from unknown parameters to some known parameters\n",
    "\n",
    "a poor represntation of data to better representation of data\n",
    "\n",
    "One way to measure how poor or how wrong your models predtions are use Loss functions\n",
    "\n",
    "*Note : Loss function may also be called cost function or criterions on different areas\n",
    "\n",
    "* **Loss function**: function to measure how wrong model predictions are to the ideal function, lower is better\n",
    "* **Optimizer**: Takes into accouunt the loss of a model and adjust the model's parameters (eg. weights and bias in this case) to improve loss function.\n",
    "\n",
    "And specifically for Pytorch, we need:\n",
    "* A Training loop\n",
    "* A testing loop"
   ]
  },
  {
   "cell_type": "code",
   "execution_count": 53,
   "metadata": {},
   "outputs": [],
   "source": [
    "#setup a loss function\n",
    "loss_fn = nn.L1Loss()\n",
    "\n",
    "#setup a optimizer funtion\n",
    "optimizer = torch.optim.SGD(params=model_0.parameters(),\n",
    "                            lr=0.01) #learning rate = posssibly the most important hyperparameter you can set, the larger larger in change in parameter and vice versa"
   ]
  },
  {
   "cell_type": "markdown",
   "metadata": {},
   "source": [
    "which loss function should i use?\n",
    "\n",
    "* it is problem specific.\n",
    "\n",
    "* For example, for a regression problem(like ours), a loss function of `nn.L1loss()` and a optim like `torch.optim.SGD()` will suffice.\n",
    "\n",
    "* But for classification problem, like classifying whether a photo is a dog or a cat, `nn.BCELoss()` (binary cross entrophy loss) can be used"
   ]
  },
  {
   "cell_type": "markdown",
   "metadata": {},
   "source": [
    "## Building a training loop in pytorch\n",
    " Thing we need in training loop:\n",
    " 1. Loop through the data\n",
    " 2. forward pass (This involves data moving through our model's foward() also called propogation) to make predictions on data\n",
    " 3. Calculate the loss(compare forward pass predictions to ground truth lables)\n",
    " 4. Loss backward - move backwards through the network to calculate the gradients of each of the parameters of our model with respect to the loss (**back propogation**)\n",
    " 5. Optimizer step - Use the optimizer to adjust our model's parameters to try and improve loss. (**Gradient Descent**)\n"
   ]
  },
  {
   "cell_type": "code",
   "execution_count": 51,
   "metadata": {},
   "outputs": [
    {
     "data": {
      "text/plain": [
       "[Parameter containing:\n",
       " tensor([0.3367], requires_grad=True),\n",
       " Parameter containing:\n",
       " tensor([0.1288], dtype=torch.float64, requires_grad=True)]"
      ]
     },
     "execution_count": 51,
     "metadata": {},
     "output_type": "execute_result"
    }
   ],
   "source": [
    "list(model_0.parameters())"
   ]
  },
  {
   "cell_type": "code",
   "execution_count": 54,
   "metadata": {},
   "outputs": [],
   "source": [
    "#An epoch is one loop through all the data (Hyperparameter we've set it ourselves)\n",
    "epochs = 1\n",
    "\n",
    "### Training\n",
    "# 1. Loop through the data\n",
    "for epoch in range (epochs):\n",
    "    \n",
    "    #Set the model to training mode\n",
    "    model_0.train() #train mode in Pytorch sets all parameters that require gradients to the gradients\n",
    "    \n",
    "    #1. Forward pass\n",
    "    y_preds = model_0(X_train)\n",
    "\n",
    "    #2. Calulate the loss\n",
    "    loss = loss_fn(y_preds, y_train)\n",
    "\n",
    "    #3.  Optimizer Zero grad\n",
    "    optimizer.zero_grad()\n",
    "\n",
    "    #4. perform back propagation on the loss with respect to parameters model\n",
    "    loss.backward()\n",
    "\n",
    "    #5. Step the optimizer (Perform gradient descent)\n",
    "    optimizer.step() #by default how the optimizer changes will accumulate through the loop.. we have to zero them in step 3 so that we will carry on with training\n",
    "\n",
    "    #Testing\n",
    "    model_0.eval() #turns off gradient tracking\n"
   ]
  }
 ],
 "metadata": {
  "kernelspec": {
   "display_name": "Python 3",
   "language": "python",
   "name": "python3"
  },
  "language_info": {
   "codemirror_mode": {
    "name": "ipython",
    "version": 3
   },
   "file_extension": ".py",
   "mimetype": "text/x-python",
   "name": "python",
   "nbconvert_exporter": "python",
   "pygments_lexer": "ipython3",
   "version": "3.10.11"
  }
 },
 "nbformat": 4,
 "nbformat_minor": 2
}
